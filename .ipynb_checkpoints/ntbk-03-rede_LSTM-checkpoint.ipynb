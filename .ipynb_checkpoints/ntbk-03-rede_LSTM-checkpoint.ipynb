{
 "cells": [
  {
   "cell_type": "markdown",
   "id": "3aaef1c0",
   "metadata": {},
   "source": [
    "### 1) Processamento de dados (pt1)"
   ]
  },
  {
   "cell_type": "code",
   "execution_count": 2,
   "id": "08a430eb",
   "metadata": {},
   "outputs": [],
   "source": [
    "# Libraries\n",
    "import numpy as np\n",
    "from sklearn.preprocessing import MinMaxScaler\n",
    "rota = './Dados_Avaliação_P1_2024_1/'\n",
    "# Carregando dados\n",
    "d1 = np.load(rota+'Dados_1.npy'); d1 = d1[:,0:200] # eliminar NaN\n",
    "d2 = np.load(rota+'Dados_2.npy'); d2 = d2[:,0:200] # eliminar NaN\n",
    "d3 = np.load(rota+'Dados_3.npy'); d3 = d3[:,0:200] # eliminar NaN\n",
    "cl = np.load(rota+'Classes.npy', allow_pickle=True)\n",
    "labels = np.array([])\n",
    "num_samples = 50000\n",
    "for ind in range(num_samples):\n",
    "    if cl[ind,0]=='Classe A':\n",
    "        labels=np.append(labels,0)\n",
    "    if cl[ind,0]=='Classe B':\n",
    "        labels=np.append(labels,0.25)\n",
    "    if cl[ind,0]=='Classe C':\n",
    "        labels=np.append(labels,0.50)\n",
    "    if cl[ind,0]=='Classe D':\n",
    "        labels=np.append(labels,0.75)\n",
    "    if cl[ind,0]=='Classe E':\n",
    "        labels=np.append(labels,1)\n",
    "# Aplicando MinMaxScaler\n",
    "scaler = MinMaxScaler()\n",
    "d1_scaled    = scaler.fit_transform(d1)\n",
    "d2_scaled    = scaler.fit_transform(d2)\n",
    "d3_scaled    = scaler.fit_transform(d3)\n",
    "labels = np.transpose(labels)\n",
    "#label_scaled = scaler.fit_transform([labels])\n",
    "# Há um código para preparar sequencias, vou omitor"
   ]
  },
  {
   "cell_type": "markdown",
   "id": "782793f1",
   "metadata": {},
   "source": [
    "### 2) Processamento de dados (pt2)"
   ]
  },
  {
   "cell_type": "code",
   "execution_count": 3,
   "id": "3b07df97",
   "metadata": {},
   "outputs": [],
   "source": [
    "# Conjunto de treino e teste\n",
    "num_samples = 50000\n",
    "split = int(0.8 * num_samples)\n",
    "train_d1, test_d1 = d1_scaled[:split,0:200], d1_scaled[split:,0:200]\n",
    "train_d2, test_d2 = d2_scaled[:split,0:200], d2_scaled[split:,0:200]\n",
    "train_d3, test_d3 = d3_scaled[:split,0:200], d3_scaled[split:,0:200]\n",
    "train_labels, test_labels = labels[:split], labels[split:]\n",
    "\n",
    "train_d = np.concatenate((train_d1, train_d2, train_d3), axis=1)\n",
    "test_d  = np.concatenate((test_d1, test_d2, test_d3), axis=1)"
   ]
  },
  {
   "cell_type": "markdown",
   "id": "4f144aeb",
   "metadata": {},
   "source": [
    "### 3) Treinamento da rede neural"
   ]
  },
  {
   "cell_type": "code",
   "execution_count": 5,
   "id": "1524504f",
   "metadata": {},
   "outputs": [
    {
     "name": "stdout",
     "output_type": "stream",
     "text": [
      "Epoch 1/50\n",
      "1000/1000 [==============================] - 2s 2ms/step - loss: 0.1511 - val_loss: 0.1387\n",
      "Epoch 2/50\n",
      "1000/1000 [==============================] - 2s 2ms/step - loss: 0.1348 - val_loss: 0.1345\n",
      "Epoch 3/50\n",
      "1000/1000 [==============================] - 2s 2ms/step - loss: 0.1292 - val_loss: 0.1323\n",
      "Epoch 4/50\n",
      "1000/1000 [==============================] - 2s 2ms/step - loss: 0.1274 - val_loss: 0.1243\n",
      "Epoch 5/50\n",
      "1000/1000 [==============================] - 2s 2ms/step - loss: 0.1267 - val_loss: 0.1257\n",
      "Epoch 6/50\n",
      "1000/1000 [==============================] - 2s 2ms/step - loss: 0.1255 - val_loss: 0.1238\n",
      "Epoch 7/50\n",
      "1000/1000 [==============================] - 2s 2ms/step - loss: 0.1253 - val_loss: 0.1239\n",
      "Epoch 8/50\n",
      "1000/1000 [==============================] - 2s 2ms/step - loss: 0.1254 - val_loss: 0.1235\n",
      "Epoch 9/50\n",
      "1000/1000 [==============================] - 2s 2ms/step - loss: 0.1253 - val_loss: 0.1236\n",
      "Epoch 10/50\n",
      "1000/1000 [==============================] - 2s 2ms/step - loss: 0.1251 - val_loss: 0.1256\n",
      "Epoch 11/50\n",
      "1000/1000 [==============================] - 2s 2ms/step - loss: 0.1250 - val_loss: 0.1236\n",
      "Epoch 12/50\n",
      "1000/1000 [==============================] - 2s 2ms/step - loss: 0.1249 - val_loss: 0.1236\n",
      "Epoch 13/50\n",
      "1000/1000 [==============================] - 2s 2ms/step - loss: 0.1251 - val_loss: 0.1245\n",
      "Epoch 14/50\n",
      "1000/1000 [==============================] - 2s 2ms/step - loss: 0.1250 - val_loss: 0.1239\n",
      "Epoch 15/50\n",
      "1000/1000 [==============================] - 2s 2ms/step - loss: 0.1250 - val_loss: 0.1234\n",
      "Epoch 16/50\n",
      "1000/1000 [==============================] - 2s 2ms/step - loss: 0.1251 - val_loss: 0.1239\n",
      "Epoch 17/50\n",
      "1000/1000 [==============================] - 2s 2ms/step - loss: 0.1248 - val_loss: 0.1235\n",
      "Epoch 18/50\n",
      "1000/1000 [==============================] - 2s 2ms/step - loss: 0.1248 - val_loss: 0.1248\n",
      "Epoch 19/50\n",
      "1000/1000 [==============================] - 2s 2ms/step - loss: 0.1248 - val_loss: 0.1235\n",
      "Epoch 20/50\n",
      "1000/1000 [==============================] - 2s 2ms/step - loss: 0.1247 - val_loss: 0.1234\n",
      "Epoch 21/50\n",
      "1000/1000 [==============================] - 2s 2ms/step - loss: 0.1248 - val_loss: 0.1241\n",
      "Epoch 22/50\n",
      "1000/1000 [==============================] - 2s 2ms/step - loss: 0.1249 - val_loss: 0.1234\n",
      "Epoch 23/50\n",
      "1000/1000 [==============================] - 2s 2ms/step - loss: 0.1249 - val_loss: 0.1234\n",
      "Epoch 24/50\n",
      "1000/1000 [==============================] - 2s 2ms/step - loss: 0.1246 - val_loss: 0.1245\n",
      "Epoch 25/50\n",
      "1000/1000 [==============================] - 2s 2ms/step - loss: 0.1245 - val_loss: 0.1237\n",
      "Epoch 26/50\n",
      "1000/1000 [==============================] - 2s 2ms/step - loss: 0.1249 - val_loss: 0.1245\n",
      "Epoch 27/50\n",
      "1000/1000 [==============================] - 2s 2ms/step - loss: 0.1245 - val_loss: 0.1238\n",
      "Epoch 28/50\n",
      "1000/1000 [==============================] - 2s 2ms/step - loss: 0.1245 - val_loss: 0.1237\n",
      "Epoch 29/50\n",
      "1000/1000 [==============================] - 2s 2ms/step - loss: 0.1247 - val_loss: 0.1237\n",
      "Epoch 30/50\n",
      "1000/1000 [==============================] - 2s 2ms/step - loss: 0.1244 - val_loss: 0.1246\n",
      "Epoch 31/50\n",
      "1000/1000 [==============================] - 2s 2ms/step - loss: 0.1246 - val_loss: 0.1237\n",
      "Epoch 32/50\n",
      "1000/1000 [==============================] - 2s 2ms/step - loss: 0.1248 - val_loss: 0.1245\n",
      "Epoch 33/50\n",
      "1000/1000 [==============================] - 2s 2ms/step - loss: 0.1244 - val_loss: 0.1248\n",
      "Epoch 34/50\n",
      "1000/1000 [==============================] - 2s 2ms/step - loss: 0.1244 - val_loss: 0.1236\n",
      "Epoch 35/50\n",
      "1000/1000 [==============================] - 2s 2ms/step - loss: 0.1243 - val_loss: 0.1242\n",
      "Epoch 36/50\n",
      "1000/1000 [==============================] - 2s 2ms/step - loss: 0.1244 - val_loss: 0.1234\n",
      "Epoch 37/50\n",
      "1000/1000 [==============================] - 2s 2ms/step - loss: 0.1244 - val_loss: 0.1235\n",
      "Epoch 38/50\n",
      "1000/1000 [==============================] - 2s 2ms/step - loss: 0.1245 - val_loss: 0.1240\n",
      "Epoch 39/50\n",
      "1000/1000 [==============================] - 2s 2ms/step - loss: 0.1246 - val_loss: 0.1234\n",
      "Epoch 40/50\n",
      "1000/1000 [==============================] - 2s 2ms/step - loss: 0.1244 - val_loss: 0.1237\n",
      "Epoch 41/50\n",
      "1000/1000 [==============================] - 2s 2ms/step - loss: 0.1244 - val_loss: 0.1236\n",
      "Epoch 42/50\n",
      "1000/1000 [==============================] - 2s 2ms/step - loss: 0.1244 - val_loss: 0.1235\n",
      "Epoch 43/50\n",
      "1000/1000 [==============================] - 2s 2ms/step - loss: 0.1245 - val_loss: 0.1245\n",
      "Epoch 44/50\n",
      "1000/1000 [==============================] - 2s 2ms/step - loss: 0.1243 - val_loss: 0.1235\n",
      "Epoch 45/50\n",
      "1000/1000 [==============================] - 2s 2ms/step - loss: 0.1244 - val_loss: 0.1235\n",
      "Epoch 46/50\n",
      "1000/1000 [==============================] - 2s 2ms/step - loss: 0.1242 - val_loss: 0.1243\n",
      "Epoch 47/50\n",
      "1000/1000 [==============================] - 2s 2ms/step - loss: 0.1242 - val_loss: 0.1235\n",
      "Epoch 48/50\n",
      "1000/1000 [==============================] - 2s 2ms/step - loss: 0.1241 - val_loss: 0.1238\n",
      "Epoch 49/50\n",
      "1000/1000 [==============================] - 2s 2ms/step - loss: 0.1243 - val_loss: 0.1249\n",
      "Epoch 50/50\n",
      "1000/1000 [==============================] - 2s 2ms/step - loss: 0.1243 - val_loss: 0.1240\n"
     ]
    }
   ],
   "source": [
    "from keras.models import Sequential  \n",
    "from keras.layers import *  \n",
    "\n",
    "# Criação de modelo\n",
    "modelo = Sequential()\n",
    "modelo.add(Dense(units=10,input_shape=(600,))) #hidden layer 1 with input\n",
    "modelo.add(Dense(units=1)) #output layer\n",
    "\n",
    "# Compilação do modelo\n",
    "modelo.compile(optimizer='adam', loss='mse')\n",
    "\n",
    "# Treinamento do modelo\n",
    "history = modelo.fit(train_d, train_labels, epochs = 50, batch_size = 32, validation_split=0.2)"
   ]
  },
  {
   "cell_type": "markdown",
   "id": "dc6b966b",
   "metadata": {},
   "source": [
    "### 4) Avaliando o modelo treinado para o conjunto de teste"
   ]
  },
  {
   "cell_type": "code",
   "execution_count": 6,
   "id": "106aee93",
   "metadata": {},
   "outputs": [
    {
     "name": "stdout",
     "output_type": "stream",
     "text": [
      "313/313 [==============================] - 0s 1ms/step - loss: 0.1232\n",
      "Test Loss: 0.1232156753540039\n",
      "313/313 [==============================] - 0s 1ms/step\n",
      "0.75\n",
      "[0.46592093]\n"
     ]
    }
   ],
   "source": [
    "# Avaliando o modelo\n",
    "loss = modelo.evaluate(test_d, test_labels)\n",
    "print(\"Test Loss:\", loss)\n",
    "predi = modelo.predict(test_d)\n",
    "print(test_labels[2])\n",
    "print(predi[2])"
   ]
  },
  {
   "cell_type": "markdown",
   "id": "219445af",
   "metadata": {},
   "source": [
    "### 5) Plotagem de função de perda de treinamento e validação"
   ]
  },
  {
   "cell_type": "code",
   "execution_count": 9,
   "id": "42cf06f7",
   "metadata": {},
   "outputs": [
    {
     "data": {
      "image/png": "[encoded data removed]",
      "text/plain": [
       "<Figure size 640x480 with 1 Axes>"
      ]
     },
     "metadata": {},
     "output_type": "display_data"
    }
   ],
   "source": [
    "import matplotlib.pyplot as plt\n",
    "\n",
    "plt.plot(history.history['loss'])\n",
    "plt.plot(history.history['val_loss'])\n",
    "plt.title('Função de perda do modelo')\n",
    "plt.ylabel('Perda')\n",
    "plt.xlabel('Epoca')\n",
    "plt.legend(['Treino', 'Validação'], loc='upper left')\n",
    "plt.show()"
   ]
  },
  {
   "cell_type": "code",
   "execution_count": null,
   "id": "20823bcb",
   "metadata": {},
   "outputs": [],
   "source": []
  }
 ],
 "metadata": {
  "kernelspec": {
   "display_name": "Python 3 (ipykernel)",
   "language": "python",
   "name": "python3"
  },
  "language_info": {
   "codemirror_mode": {
    "name": "ipython",
    "version": 3
   },
   "file_extension": ".py",
   "mimetype": "text/x-python",
   "name": "python",
   "nbconvert_exporter": "python",
   "pygments_lexer": "ipython3",
   "version": "3.10.12"
  }
 },
 "nbformat": 4,
 "nbformat_minor": 5
}
