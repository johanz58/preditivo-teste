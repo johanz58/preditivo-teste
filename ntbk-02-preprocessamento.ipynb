{
 "cells": [
  {
   "cell_type": "markdown",
   "id": "334d8a79",
   "metadata": {},
   "source": [
    "### 1. Todos os sensores possuem um dado numpy NaN"
   ]
  },
  {
   "cell_type": "code",
   "execution_count": 1,
   "id": "71b90534",
   "metadata": {},
   "outputs": [],
   "source": [
    "# Libraries\n",
    "import numpy as np\n",
    "rota = './Dados_Avaliação_P1_2024_1/'\n",
    "# Carregando os dados e eliminando fila NaN\n",
    "d1 = np.load(rota+'Dados_1.npy'); d1 = d1[:,0:200] # eliminar NaN\n",
    "d2 = np.load(rota+'Dados_2.npy'); d2 = d2[:,0:200] # eliminar NaN\n",
    "d3 = np.load(rota+'Dados_3.npy'); d3 = d3[:,0:200] # eliminar NaN\n",
    "d4 = np.load(rota+'Dados_4.npy'); d4 = d4[:,0:200] # eliminar NaN\n",
    "d5 = np.load(rota+'Dados_5.npy'); d5 = d5[:,0:200] # eliminar NaN"
   ]
  },
  {
   "cell_type": "markdown",
   "id": "2da17626",
   "metadata": {},
   "source": [
    "### 2. As classes são labels (A,B,C,D,E) que devem ser representados numéricamente"
   ]
  },
  {
   "cell_type": "code",
   "execution_count": 2,
   "id": "9d564dde",
   "metadata": {},
   "outputs": [],
   "source": [
    "cl = np.load(rota+'Classes.npy', allow_pickle=True)\n",
    "labels = np.array([])\n",
    "num_samples = 50000\n",
    "for ind in range(num_samples):\n",
    "    if cl[ind,0]=='Classe A':\n",
    "        labels=np.append(labels,0)\n",
    "    if cl[ind,0]=='Classe B':\n",
    "        labels=np.append(labels,0.25)\n",
    "    if cl[ind,0]=='Classe C':\n",
    "        labels=np.append(labels,0.50)\n",
    "    if cl[ind,0]=='Classe D':\n",
    "        labels=np.append(labels,0.75)\n",
    "    if cl[ind,0]=='Classe E':\n",
    "        labels=np.append(labels,1)\n",
    "labels = np.transpose(labels)"
   ]
  },
  {
   "cell_type": "markdown",
   "id": "905feba1",
   "metadata": {},
   "source": [
    "### 3. A normalização é aplicada a todos os sensores pois possuem dados de natureza diversa"
   ]
  },
  {
   "cell_type": "code",
   "execution_count": 3,
   "id": "09d01cbd",
   "metadata": {},
   "outputs": [],
   "source": [
    "from sklearn.preprocessing import MinMaxScaler\n",
    "# Aplicando a função MinMaxScaler\n",
    "scaler = MinMaxScaler()\n",
    "data = np.concatenate((d1, d2, d3), axis=1)\n",
    "scaled_data = scaler.fit_transform(data)"
   ]
  },
  {
   "cell_type": "code",
   "execution_count": null,
   "id": "89eae6b5",
   "metadata": {},
   "outputs": [],
   "source": [
    "# script para preparar as sequencias\n",
    "def split_sequence(data, n_steps):\n",
    "    x, y = list(), list()\n",
    "    for i in range(len(data)):\n",
    "        end_ix = i + n_steps\n",
    "        if end_ix > len(data)-1:\n",
    "            break\n",
    "        seq_x, seq_y = data[i:end_ix], data[end_ix]\n",
    "        x.append(seq_x)\n",
    "        y.append(seq_y)\n",
    "    return np.array(x), np.array(y)"
   ]
  },
  {
   "cell_type": "code",
   "execution_count": null,
   "id": "cd4e2204",
   "metadata": {},
   "outputs": [],
   "source": [
    "from sklearn.model_selection import train_test_split\n",
    "n_steps = 10\n",
    "x, y = split_sequence(scaled_data, n_steps)\n",
    "x_train, x_test, y_train, y_test = train_test_split(x, y, test_size= 0.2) "
   ]
  }
 ],
 "metadata": {
  "kernelspec": {
   "display_name": "Python 3 (ipykernel)",
   "language": "python",
   "name": "python3"
  },
  "language_info": {
   "codemirror_mode": {
    "name": "ipython",
    "version": 3
   },
   "file_extension": ".py",
   "mimetype": "text/x-python",
   "name": "python",
   "nbconvert_exporter": "python",
   "pygments_lexer": "ipython3",
   "version": "3.10.12"
  }
 },
 "nbformat": 4,
 "nbformat_minor": 5
}
