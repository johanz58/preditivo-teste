{
 "cells": [
  {
   "cell_type": "code",
   "execution_count": null,
   "id": "64a98141",
   "metadata": {},
   "outputs": [],
   "source": [
    "import numpy as np\n",
    "import matplotlib.pyplot as plt\n",
    "\n",
    "d1 = np.load('Dados_1.npy')\n",
    "v1 = d1[1:50000,0] # ele tem 200 colunas, pq isso\n",
    "\n",
    "plt.plot(v1)\n",
    "plt.xlabel('Amostras')\n",
    "plt.ylabel('Medições')\n",
    "plt.title('Medições do SENSOR 1')"
   ]
  },
  {
   "cell_type": "code",
   "execution_count": null,
   "id": "6ffc9d9c",
   "metadata": {},
   "outputs": [],
   "source": [
    "d2 = np.load('Dados_2.npy'); d3 = np.load('Dados_3.npy')\n",
    "d4 = np.load('Dados_4.npy'); d5 = np.load('Dados_5.npy')\n",
    "\n",
    "figure, axis = plt.subplots(3, 2) \n",
    "axis[0, 0].plot(d1[1:50000,0]); axis[0, 0].set_title(\"Sensor 1\")\n",
    "axis[0, 1].plot(d2[1:50000,0],color='r'); axis[0, 1].set_title(\"Sensor 2\")\n",
    "axis[1, 0].plot(d3[1:50000,0],color='g'); axis[1, 0].set_title(\"Sensor 3\")\n",
    "axis[1, 1].plot(d4[1:50000,0],color='m'); axis[1, 1].set_title(\"Sensor 4\")\n",
    "axis[2, 0].plot(d5[1:50000,0],color='k'); axis[2, 0].set_title(\"Sensor 5\")"
   ]
  },
  {
   "cell_type": "code",
   "execution_count": null,
   "id": "4f463b98",
   "metadata": {},
   "outputs": [],
   "source": [
    "print(d1.shape)\n",
    "print(d2.shape)\n",
    "print(d3.shape)\n",
    "print(d4.shape)\n",
    "print(d5.shape)"
   ]
  },
  {
   "cell_type": "code",
   "execution_count": null,
   "id": "feeeaf54",
   "metadata": {},
   "outputs": [],
   "source": [
    "# dá para fazer uma estatística\n",
    "print('Média da leitura:', v1.mean())\n",
    "print('Desvio padrão:', v1.std())"
   ]
  },
  {
   "cell_type": "code",
   "execution_count": null,
   "id": "c4a4e0a5",
   "metadata": {},
   "outputs": [],
   "source": [
    "import matplotlib.pyplot as plt\n",
    "import numpy as np\n",
    "\n",
    "all_data = [d1[1:50000,0], d2[1:50000,0], d3[1:50000,0]]\n",
    "labels = ['Sensor 1', 'Sensor 2', 'Sensor 3']\n",
    "\n",
    "# rectangular box plot\n",
    "fig, ax = plt.subplots()\n",
    "ax.boxplot(all_data, notch=True, vert=True, patch_artist=True, labels=labels)\n",
    "plt.show()"
   ]
  }
 ],
 "metadata": {
  "kernelspec": {
   "display_name": "Python 3 (ipykernel)",
   "language": "python",
   "name": "python3"
  },
  "language_info": {
   "codemirror_mode": {
    "name": "ipython",
    "version": 3
   },
   "file_extension": ".py",
   "mimetype": "text/x-python",
   "name": "python",
   "nbconvert_exporter": "python",
   "pygments_lexer": "ipython3",
   "version": "3.10.12"
  }
 },
 "nbformat": 4,
 "nbformat_minor": 5
}
