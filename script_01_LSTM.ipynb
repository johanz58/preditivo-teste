{
 "cells": [
  {
   "cell_type": "code",
   "execution_count": 1,
   "id": "e99a6e79",
   "metadata": {},
   "outputs": [],
   "source": [
    "# Libraries\n",
    "import numpy as np\n",
    "\n",
    "# Carregando dados\n",
    "d1 = np.load('Dados_1.npy')\n",
    "d2 = np.load('Dados_2.npy')\n",
    "d3 = np.load('Dados_3.npy')\n",
    "cl = np.load('Classes.npy', allow_pickle=True)\n",
    "labels = np.array([])\n",
    "num_samples = 50000\n",
    "for ind in range(num_samples):\n",
    "    if cl[ind,0]=='Classe A':\n",
    "        labels=np.append(labels,1)\n",
    "    if cl[ind,0]=='Classe B':\n",
    "        labels=np.append(labels,2)\n",
    "    if cl[ind,0]=='Classe C':\n",
    "        labels=np.append(labels,3)\n",
    "    if cl[ind,0]=='Classe D':\n",
    "        labels=np.append(labels,4)\n",
    "    if cl[ind,0]=='Classe E':\n",
    "        labels=np.append(labels,5)\n",
    "# Conjunto de treino e teste\n",
    "split = int(0.8 * num_samples)\n",
    "train_d1, test_d1 = d1[:split,0:200], d1[split:,0:200]\n",
    "train_d2, test_d2 = d2[:split,0:200], d2[split:,0:200]\n",
    "train_d3, test_d3 = d3[:split,0:200], d3[split:,0:200]\n",
    "train_labels, test_labels = labels[:split], labels[split:]\n",
    "\n",
    "train_d = np.concatenate((train_d1, train_d2), axis=1)\n",
    "test_d  = np.concatenate((test_d1, test_d2), axis=1)"
   ]
  },
  {
   "cell_type": "code",
   "execution_count": null,
   "id": "5ca9ea44",
   "metadata": {},
   "outputs": [],
   "source": [
    "print(train_d1.shape)\n",
    "print(train_d2.shape)\n",
    "print(train_labels.shape)\n",
    "print(train_d.shape)\n",
    "print(test_d.shape)\n",
    "print(test_labels.shape)\n"
   ]
  },
  {
   "cell_type": "code",
   "execution_count": 2,
   "id": "0035c812",
   "metadata": {},
   "outputs": [
    {
     "name": "stderr",
     "output_type": "stream",
     "text": [
      "2024-02-11 16:10:01.416859: I external/local_tsl/tsl/cuda/cudart_stub.cc:31] Could not find cuda drivers on your machine, GPU will not be used.\n",
      "2024-02-11 16:10:01.638670: E external/local_xla/xla/stream_executor/cuda/cuda_dnn.cc:9261] Unable to register cuDNN factory: Attempting to register factory for plugin cuDNN when one has already been registered\n",
      "2024-02-11 16:10:01.638714: E external/local_xla/xla/stream_executor/cuda/cuda_fft.cc:607] Unable to register cuFFT factory: Attempting to register factory for plugin cuFFT when one has already been registered\n",
      "2024-02-11 16:10:01.685704: E external/local_xla/xla/stream_executor/cuda/cuda_blas.cc:1515] Unable to register cuBLAS factory: Attempting to register factory for plugin cuBLAS when one has already been registered\n",
      "2024-02-11 16:10:01.874929: I external/local_tsl/tsl/cuda/cudart_stub.cc:31] Could not find cuda drivers on your machine, GPU will not be used.\n",
      "2024-02-11 16:10:01.875441: I tensorflow/core/platform/cpu_feature_guard.cc:182] This TensorFlow binary is optimized to use available CPU instructions in performance-critical operations.\n",
      "To enable the following instructions: AVX2 FMA, in other operations, rebuild TensorFlow with the appropriate compiler flags.\n",
      "2024-02-11 16:10:13.508476: W tensorflow/compiler/tf2tensorrt/utils/py_utils.cc:38] TF-TRT Warning: Could not find TensorRT\n"
     ]
    },
    {
     "name": "stdout",
     "output_type": "stream",
     "text": [
      "Epoch 1/5\n",
      "1000/1000 [==============================] - 3s 3ms/step - loss: 3.3330 - val_loss: 2.0683\n",
      "Epoch 2/5\n",
      "1000/1000 [==============================] - 3s 3ms/step - loss: 2.0548 - val_loss: 2.0469\n",
      "Epoch 3/5\n",
      "1000/1000 [==============================] - 2s 2ms/step - loss: 2.0277 - val_loss: 2.0285\n",
      "Epoch 4/5\n",
      "1000/1000 [==============================] - 2s 2ms/step - loss: 2.0198 - val_loss: 2.0229\n",
      "Epoch 5/5\n",
      "1000/1000 [==============================] - 2s 2ms/step - loss: 2.0137 - val_loss: 2.0223\n",
      "313/313 [==============================] - 1s 1ms/step - loss: 2.0021\n",
      "Test Loss: 2.002089738845825\n"
     ]
    }
   ],
   "source": [
    "from keras.models import Sequential  \n",
    "from keras.layers import *  \n",
    "\n",
    "modelo = Sequential()\n",
    "modelo.add(Dense(units=10,input_shape=(400,))) #hidden layer 1 with input\n",
    "modelo.add(Dense(units=1)) #output layer   \n",
    "#modelo.add(Dense(units=5)) #output layer   \n",
    "\n",
    "# Compilar o modelo\n",
    "modelo.compile(optimizer='adam', loss='mean_squared_error')\n",
    "# Treinar o modelo\n",
    "history = modelo.fit(train_d, train_labels, epochs = 5, batch_size = 32,\n",
    "                    validation_split=0.2)\n",
    "# Evaluate the model\n",
    "loss = modelo.evaluate(test_d, test_labels)\n",
    "print(\"Test Loss:\", loss)\n"
   ]
  },
  {
   "cell_type": "code",
   "execution_count": 4,
   "id": "1bb9165c",
   "metadata": {},
   "outputs": [
    {
     "name": "stdout",
     "output_type": "stream",
     "text": [
      "313/313 [==============================] - 0s 1ms/step\n",
      "[[3.0722237]\n",
      " [2.6448326]\n",
      " [2.885176 ]\n",
      " ...\n",
      " [3.2364063]\n",
      " [2.978282 ]\n",
      " [2.4806774]]\n",
      "[1. 1. 4. ... 4. 1. 2.]\n"
     ]
    }
   ],
   "source": [
    "# Predict temperature using the trained model\n",
    "#predicted_temperature = \n",
    "predi = modelo.predict(test_d)\n",
    "print(predi)\n",
    "print(test_labels)"
   ]
  },
  {
   "cell_type": "code",
   "execution_count": null,
   "id": "627acb26",
   "metadata": {},
   "outputs": [],
   "source": [
    "import tensorflow as tf\n",
    "# Define-se o modelo, neurons=64\n",
    "model = tf.keras.Sequential([\n",
    "    tf.keras.layers.Dense(10, activation='relu', input_shape=(1,)),\n",
    "    tf.keras.layers.Dense(1)\n",
    "])\n",
    "\"\"\"\n",
    "# Define the LSTM model\n",
    "model = tf.keras.Sequential([\n",
    "    tf.keras.layers.LSTM(64, return_sequences=True, input_shape=(50000, 1)),\n",
    "    tf.keras.layers.LSTM(32),\n",
    "    tf.keras.layers.Dense(5, activation='softmax')\n",
    "])\n",
    "\"\"\"\n",
    "# Compilar o modelo\n",
    "model.compile(optimizer='adam', loss='mean_squared_error')\n",
    "# Treinar o modelo\n",
    "#history = model.fit([train_d1, train_d2], train_labels, epochs = 50, batch_size = 32)\n",
    "history = model.fit(train_d1, train_labels, epochs = 5, batch_size = 32)\n",
    "#loss = model.evaluate([test_d1, test_d2], test_labels)\n",
    "loss = model.evaluate(test_d1, test_labels)\n",
    "print('Perda: ', loss)\n",
    "\n",
    "predicted_temperature = model.predict([test_current, test_voltage])\n",
    "\n",
    "\n",
    "\n"
   ]
  },
  {
   "cell_type": "code",
   "execution_count": null,
   "id": "11f6807f",
   "metadata": {},
   "outputs": [],
   "source": [
    "# Train the model\n",
    "history = model.fit([train_current, train_voltage], train_temperature, epochs=50, batch_size=32, validation_split=0.2)\n",
    "# Evaluate the model\n",
    "loss = model.evaluate([test_current, test_voltage], test_temperature)\n",
    "print(\"Test Loss:\", loss)\n",
    "\n",
    "# Predict temperature using the trained model\n",
    "predicted_temperature = model.predict([test_current, test_voltage])\n"
   ]
  },
  {
   "cell_type": "code",
   "execution_count": null,
   "id": "154a81f9",
   "metadata": {},
   "outputs": [],
   "source": [
    "import tensorflow as tf\n",
    "\n",
    "# Define LSTM model\n",
    "model = tf.keras.Sequential([\n",
    "    tf.keras.layers.LSTM(64, input_shape=(10, 1)),\n",
    "    tf.keras.layers.Dense(1)\n",
    "])\n",
    "\n",
    "# Compile model\n",
    "model.compile(loss='mse', optimizer='adam')"
   ]
  },
  {
   "cell_type": "code",
   "execution_count": null,
   "id": "589717ed",
   "metadata": {},
   "outputs": [],
   "source": [
    "import numpy as np\n",
    "from sklearn import preprocessing\n",
    "b = np.array([(4, 1, 5, 3), (0, 1.5, 1, 3)])\n",
    "print(b)\n",
    "preprocessing.minmax_scale(b.T).T"
   ]
  },
  {
   "cell_type": "code",
   "execution_count": null,
   "id": "ac32a8a6",
   "metadata": {},
   "outputs": [],
   "source": []
  }
 ],
 "metadata": {
  "kernelspec": {
   "display_name": "Python 3 (ipykernel)",
   "language": "python",
   "name": "python3"
  },
  "language_info": {
   "codemirror_mode": {
    "name": "ipython",
    "version": 3
   },
   "file_extension": ".py",
   "mimetype": "text/x-python",
   "name": "python",
   "nbconvert_exporter": "python",
   "pygments_lexer": "ipython3",
   "version": "3.10.12"
  }
 },
 "nbformat": 4,
 "nbformat_minor": 5
}
