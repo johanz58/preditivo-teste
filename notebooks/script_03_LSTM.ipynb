{
 "cells": [
  {
   "cell_type": "markdown",
   "id": "3aaef1c0",
   "metadata": {},
   "source": [
    "#### Adicionais deste script:\n",
    "- Analisar o script prepare_sequences\n",
    "- Talvez colocar script para preparação de conjuntos\n",
    "- Usar rede LSTM certo!\n",
    "- Colocar todos os sensores > D4 e D5 possuem NaN"
   ]
  },
  {
   "cell_type": "code",
   "execution_count": 1,
   "id": "578a1730",
   "metadata": {},
   "outputs": [],
   "source": [
    "# Libraries\n",
    "import numpy as np\n",
    "from sklearn.preprocessing import MinMaxScaler\n",
    "\n",
    "# Carregando dados\n",
    "d1 = np.load('Dados_1.npy'); d1 = d1[:,0:200] # eliminar NaN\n",
    "d2 = np.load('Dados_2.npy'); d2 = d2[:,0:200] # eliminar NaN\n",
    "d3 = np.load('Dados_3.npy'); d3 = d3[:,0:200] # eliminar NaN\n",
    "d4 = np.load('Dados_4.npy'); d4 = d4[:,0:200] # eliminar NaN\n",
    "d5 = np.load('Dados_5.npy'); d5 = d5[:,0:200] # eliminar NaN\n",
    "cl = np.load('Classes.npy', allow_pickle=True)\n",
    "labels = np.array([])\n",
    "num_samples = 50000\n",
    "for ind in range(num_samples):\n",
    "    if cl[ind,0]=='Classe A':\n",
    "        labels=np.append(labels,0)\n",
    "    if cl[ind,0]=='Classe B':\n",
    "        labels=np.append(labels,0.25)\n",
    "    if cl[ind,0]=='Classe C':\n",
    "        labels=np.append(labels,0.50)\n",
    "    if cl[ind,0]=='Classe D':\n",
    "        labels=np.append(labels,0.75)\n",
    "    if cl[ind,0]=='Classe E':\n",
    "        labels=np.append(labels,1)\n",
    "labels = np.transpose(labels)\n",
    "# Aplicando MinMaxScaler\n",
    "scaler = MinMaxScaler()\n",
    "data = np.concatenate((d1, d2, d3), axis=1)\n",
    "scaled_data = scaler.fit_transform(data)"
   ]
  },
  {
   "cell_type": "code",
   "execution_count": 2,
   "id": "299aa463",
   "metadata": {},
   "outputs": [],
   "source": [
    "# script para preparar as sequencias\n",
    "def split_sequence(data, n_steps):\n",
    "    x, y = list(), list()\n",
    "    for i in range(len(data)):\n",
    "        end_ix = i + n_steps\n",
    "        if end_ix > len(data)-1:\n",
    "            break\n",
    "        seq_x, seq_y = data[i:end_ix], data[end_ix]\n",
    "        x.append(seq_x)\n",
    "        y.append(seq_y)\n",
    "    return np.array(x), np.array(y)"
   ]
  },
  {
   "cell_type": "code",
   "execution_count": 3,
   "id": "3aa83a66",
   "metadata": {},
   "outputs": [],
   "source": [
    "from sklearn.model_selection import train_test_split\n",
    "n_steps = 10\n",
    "x, y = split_sequence(scaled_data, n_steps)\n",
    "x_train, x_test, y_train, y_test = train_test_split(x, y, test_size= 0.2) #, random_state = 42)"
   ]
  },
  {
   "cell_type": "code",
   "execution_count": 4,
   "id": "65f220f3",
   "metadata": {},
   "outputs": [
    {
     "name": "stderr",
     "output_type": "stream",
     "text": [
      "2024-02-11 20:22:29.824902: I external/local_tsl/tsl/cuda/cudart_stub.cc:31] Could not find cuda drivers on your machine, GPU will not be used.\n",
      "2024-02-11 20:22:43.527057: E external/local_xla/xla/stream_executor/cuda/cuda_dnn.cc:9261] Unable to register cuDNN factory: Attempting to register factory for plugin cuDNN when one has already been registered\n",
      "2024-02-11 20:22:43.527177: E external/local_xla/xla/stream_executor/cuda/cuda_fft.cc:607] Unable to register cuFFT factory: Attempting to register factory for plugin cuFFT when one has already been registered\n",
      "2024-02-11 20:22:46.205512: E external/local_xla/xla/stream_executor/cuda/cuda_blas.cc:1515] Unable to register cuBLAS factory: Attempting to register factory for plugin cuBLAS when one has already been registered\n",
      "2024-02-11 20:22:52.071566: I external/local_tsl/tsl/cuda/cudart_stub.cc:31] Could not find cuda drivers on your machine, GPU will not be used.\n",
      "2024-02-11 20:22:52.092415: I tensorflow/core/platform/cpu_feature_guard.cc:182] This TensorFlow binary is optimized to use available CPU instructions in performance-critical operations.\n",
      "To enable the following instructions: AVX2 FMA, in other operations, rebuild TensorFlow with the appropriate compiler flags.\n",
      "2024-02-11 20:23:30.395230: W tensorflow/compiler/tf2tensorrt/utils/py_utils.cc:38] TF-TRT Warning: Could not find TensorRT\n"
     ]
    },
    {
     "ename": "NameError",
     "evalue": "name 'model' is not defined",
     "output_type": "error",
     "traceback": [
      "\u001b[0;31m---------------------------------------------------------------------------\u001b[0m",
      "\u001b[0;31mNameError\u001b[0m                                 Traceback (most recent call last)",
      "Cell \u001b[0;32mIn[4], line 7\u001b[0m\n\u001b[1;32m      2\u001b[0m \u001b[38;5;28;01mfrom\u001b[39;00m \u001b[38;5;21;01mkeras\u001b[39;00m\u001b[38;5;21;01m.\u001b[39;00m\u001b[38;5;21;01mlayers\u001b[39;00m \u001b[38;5;28;01mimport\u001b[39;00m \u001b[38;5;241m*\u001b[39m  \n\u001b[1;32m      4\u001b[0m modelo \u001b[38;5;241m=\u001b[39m Sequential([\n\u001b[1;32m      5\u001b[0m     LSTM(\u001b[38;5;241m50\u001b[39m, activation\u001b[38;5;241m=\u001b[39m\u001b[38;5;124m'\u001b[39m\u001b[38;5;124mrelu\u001b[39m\u001b[38;5;124m'\u001b[39m, input_shape\u001b[38;5;241m=\u001b[39m(n_steps, \u001b[38;5;241m1\u001b[39m)),\n\u001b[1;32m      6\u001b[0m     Dense(\u001b[38;5;241m1\u001b[39m)])\n\u001b[0;32m----> 7\u001b[0m \u001b[43mmodel\u001b[49m\u001b[38;5;241m.\u001b[39mcompile(optimizer\u001b[38;5;241m=\u001b[39m\u001b[38;5;124m'\u001b[39m\u001b[38;5;124madam\u001b[39m\u001b[38;5;124m'\u001b[39m, loss\u001b[38;5;241m=\u001b[39m\u001b[38;5;124m'\u001b[39m\u001b[38;5;124mmse\u001b[39m\u001b[38;5;124m'\u001b[39m)\n\u001b[1;32m      8\u001b[0m history \u001b[38;5;241m=\u001b[39m model\u001b[38;5;241m.\u001b[39mfit(x_train, y_trin, epochs\u001b[38;5;241m=\u001b[39m\u001b[38;5;241m5\u001b[39m, batch_size\u001b[38;5;241m=\u001b[39m\u001b[38;5;241m32\u001b[39m)\n",
      "\u001b[0;31mNameError\u001b[0m: name 'model' is not defined"
     ]
    }
   ],
   "source": [
    "from keras.models import Sequential  \n",
    "from keras.layers import *  \n",
    "\n",
    "modelo = Sequential([\n",
    "    LSTM(50, activation='relu', input_shape=(n_steps, 1)),\n",
    "    Dense(1)])\n",
    "modelo.compile(optimizer='adam', loss='mse')\n",
    "history = modelo.fit(x_train, y_train, epochs=5, batch_size=32)"
   ]
  },
  {
   "cell_type": "code",
   "execution_count": null,
   "id": "baeb7763",
   "metadata": {},
   "outputs": [],
   "source": [
    "print(x_train.shape)\n",
    "print(x_test.shape)\n",
    "print(y_train.shape)\n",
    "print(y_test.shape)\n"
   ]
  },
  {
   "cell_type": "code",
   "execution_count": null,
   "id": "34a67bd0",
   "metadata": {},
   "outputs": [],
   "source": [
    "# Conjunto de treino e teste\n",
    "num_samples = 50000\n",
    "split = int(0.8 * num_samples)\n",
    "train_d1, test_d1 = d1_scaled[:split,0:200], d1_scaled[split:,0:200]\n",
    "train_d2, test_d2 = d2_scaled[:split,0:200], d2_scaled[split:,0:200]\n",
    "train_d3, test_d3 = d3_scaled[:split,0:200], d3_scaled[split:,0:200]\n",
    "train_d4, test_d4 = d4_scaled[:split,0:200], d4_scaled[split:,0:200]\n",
    "train_d5, test_d5 = d5_scaled[:split,0:200], d5_scaled[split:,0:200]\n",
    "\n",
    "train_labels, test_labels = labels[:split], labels[split:]\n",
    "\n",
    "train_d = np.concatenate((train_d1, train_d2, train_d3), axis=1)\n",
    "test_d  = np.concatenate((test_d1, test_d2, test_d3), axis=1)\n",
    "#np.isnan(np.min(d5))"
   ]
  },
  {
   "cell_type": "code",
   "execution_count": null,
   "id": "7b394d63",
   "metadata": {},
   "outputs": [],
   "source": []
  },
  {
   "cell_type": "code",
   "execution_count": null,
   "id": "7a04419f",
   "metadata": {},
   "outputs": [],
   "source": [
    "n_steps = 10\n",
    "x, y = prepare_sequences(scaled_data, n_steps)"
   ]
  },
  {
   "cell_type": "code",
   "execution_count": null,
   "id": "5df6d80b",
   "metadata": {},
   "outputs": [],
   "source": []
  },
  {
   "cell_type": "code",
   "execution_count": null,
   "id": "ada9f611",
   "metadata": {},
   "outputs": [],
   "source": [
    "from keras.models import Sequential  \n",
    "from keras.layers import *  \n",
    "\n",
    "modelo = Sequential()\n",
    "modelo.add(Dense(units=10,input_shape=(600,))) #hidden layer 1 with input\n",
    "modelo.add(Dense(units=1)) #output layer\n",
    "\n",
    "# Compilar o modelo\n",
    "modelo.compile(optimizer='adam', loss='mse')\n",
    "# Treinar o modelo\n",
    "history = modelo.fit(train_d, train_labels, epochs = 50, batch_size = 32, validation_split=0.2)"
   ]
  },
  {
   "cell_type": "code",
   "execution_count": null,
   "id": "12f57f8c",
   "metadata": {},
   "outputs": [],
   "source": [
    "# Vou propor uma rede LSTM\n",
    "from keras.models import Sequential  \n",
    "from keras.layers import *  \n",
    "n_steps=10\n",
    "modelo = Sequential([\n",
    "    LSTM(50, activation='relu', input_shape=(n_steps, 1)),\n",
    "    Dense(1)])\n",
    "\n",
    "\n",
    "#modelo.add(Dense(units=10,input_shape=(600,))) #hidden layer 1 with input\n",
    "#modelo.add(Dense(units=1)) #output layer\n",
    "\n",
    "# Compilar o modelo\n",
    "modelo.compile(optimizer='adam', loss='mse')\n",
    "\n",
    "# Treinar o modelo\n",
    "history = modelo.fit(train_d, train_labels, epochs = 3, batch_size = 32,\n",
    "                    validation_split=0.2)"
   ]
  },
  {
   "cell_type": "code",
   "execution_count": null,
   "id": "106aee93",
   "metadata": {},
   "outputs": [],
   "source": []
  }
 ],
 "metadata": {
  "kernelspec": {
   "display_name": "Python 3 (ipykernel)",
   "language": "python",
   "name": "python3"
  },
  "language_info": {
   "codemirror_mode": {
    "name": "ipython",
    "version": 3
   },
   "file_extension": ".py",
   "mimetype": "text/x-python",
   "name": "python",
   "nbconvert_exporter": "python",
   "pygments_lexer": "ipython3",
   "version": "3.10.12"
  }
 },
 "nbformat": 4,
 "nbformat_minor": 5
}
